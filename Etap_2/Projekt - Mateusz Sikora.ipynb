{
 "cells": [
  {
   "cell_type": "markdown",
   "metadata": {},
   "source": [
    "## Mateusz Sikora - projekt - Technologie obiektowe"
   ]
  },
  {
   "cell_type": "code",
   "execution_count": null,
   "metadata": {},
   "outputs": [],
   "source": []
  },
  {
   "cell_type": "code",
   "execution_count": 1,
   "metadata": {},
   "outputs": [],
   "source": [
    "import codecs #dzięki tej bibliotece zmienimy system kodowania Unicode\n",
    "import shutil #kopiuje zawartość pliku"
   ]
  },
  {
   "cell_type": "code",
   "execution_count": 2,
   "metadata": {},
   "outputs": [
    {
     "name": "stdout",
     "output_type": "stream",
     "text": [
      "USE [master]\n",
      "GO\n",
      "/****** Object:  Database [Pracownicy]    Script Date: 23.03.2022 10:47:53 ******/\n",
      "CREATE DATABASE [Pracownicy]\n",
      " CONTAINMENT = NONE\n",
      " ON  PRIMARY \n",
      "( NAME = N'Pracownicy', FILENAME = N'C:\\Program Files\\Microsoft SQL Server\\MSSQL15.SQLEXPRESS\\MSSQL\\DATA\\Pracownicy.mdf' , SIZE = 8192KB , MAXSIZE = UNLIMITED, FILEGROWTH = 65536KB )\n",
      " LOG ON \n",
      "( NAME = N'Pracownicy_log', FILENAME = N'C:\\Program Files\\Microsoft SQL Server\\MSSQL15.SQLEXPRESS\\MSSQL\\DATA\\Pracownicy_log.ldf' , SIZE = 8192KB , MAXSIZE = 2048GB , FILEGROWTH = 65536KB )\n",
      " WITH CATALOG_COLLATION = DATABASE_DEFAULT\n",
      "GO\n",
      "ALTER DATABASE [Pracownicy] SET COMPATIBILITY_LEVEL = 150\n",
      "GO\n",
      "IF (1 = FULLTEXTSERVICEPROPERTY('IsFullTextInstalled'))\n",
      "begin\n",
      "EXEC [Pracownicy].[dbo].[sp_fulltext_database] @action = 'enable'\n",
      "end\n",
      "GO\n",
      "ALTER DATABASE [Pracownicy] SET ANSI_NULL_DEFAULT OFF \n",
      "GO\n",
      "ALTER DATABASE [Pracownicy] SET ANSI_NULLS OFF \n",
      "GO\n",
      "ALTER DATABASE [Pracownicy] SET ANSI_PADDING OFF \n",
      "GO\n",
      "ALTER DATABASE [Pracownicy] SET ANSI_WARNINGS OFF \n",
      "GO\n",
      "ALTER DATABASE [Pracownicy] SET ARITHABORT OFF \n",
      "GO\n",
      "ALTER DATABASE [Pracownicy] SET AUTO_CLOSE OFF \n",
      "GO\n",
      "ALTER DATABASE [Pracownicy] SET AUTO_SHRINK OFF \n",
      "GO\n",
      "ALTER DATABASE [Pracownicy] SET AUTO_UPDATE_STATISTICS ON \n",
      "GO\n",
      "ALTER DATABASE [Pracownicy] SET CURSOR_CLOSE_ON_COMMIT OFF \n",
      "GO\n",
      "ALTER DATABASE [Pracownicy] SET CURSOR_DEFAULT  GLOBAL \n",
      "GO\n",
      "ALTER DATABASE [Pracownicy] SET CONCAT_NULL_YIELDS_NULL OFF \n",
      "GO\n",
      "ALTER DATABASE [Pracownicy] SET NUMERIC_ROUNDABORT OFF \n",
      "GO\n",
      "ALTER DATABASE [Pracownicy] SET QUOTED_IDENTIFIER OFF \n",
      "GO\n",
      "ALTER DATABASE [Pracownicy] SET RECURSIVE_TRIGGERS OFF \n",
      "GO\n",
      "ALTER DATABASE [Pracownicy] SET  DISABLE_BROKER \n",
      "GO\n",
      "ALTER DATABASE [Pracownicy] SET AUTO_UPDATE_STATISTICS_ASYNC OFF \n",
      "GO\n",
      "ALTER DATABASE [Pracownicy] SET DATE_CORRELATION_OPTIMIZATION OFF \n",
      "GO\n",
      "ALTER DATABASE [Pracownicy] SET TRUSTWORTHY OFF \n",
      "GO\n",
      "ALTER DATABASE [Pracownicy] SET ALLOW_SNAPSHOT_ISOLATION OFF \n",
      "GO\n",
      "ALTER DATABASE [Pracownicy] SET PARAMETERIZATION SIMPLE \n",
      "GO\n",
      "ALTER DATABASE [Pracownicy] SET READ_COMMITTED_SNAPSHOT OFF \n",
      "GO\n",
      "ALTER DATABASE [Pracownicy] SET HONOR_BROKER_PRIORITY OFF \n",
      "GO\n",
      "ALTER DATABASE [Pracownicy] SET RECOVERY SIMPLE \n",
      "GO\n",
      "ALTER DATABASE [Pracownicy] SET  MULTI_USER \n",
      "GO\n",
      "ALTER DATABASE [Pracownicy] SET PAGE_VERIFY CHECKSUM  \n",
      "GO\n",
      "ALTER DATABASE [Pracownicy] SET DB_CHAINING OFF \n",
      "GO\n",
      "ALTER DATABASE [Pracownicy] SET FILESTREAM( NON_TRANSACTED_ACCESS = OFF ) \n",
      "GO\n",
      "ALTER DATABASE [Pracownicy] SET TARGET_RECOVERY_TIME = 60 SECONDS \n",
      "GO\n",
      "ALTER DATABASE [Pracownicy] SET DELAYED_DURABILITY = DISABLED \n",
      "GO\n",
      "ALTER DATABASE [Pracownicy] SET ACCELERATED_DATABASE_RECOVERY = OFF  \n",
      "GO\n",
      "ALTER DATABASE [Pracownicy] SET QUERY_STORE = OFF\n",
      "GO\n",
      "USE [Pracownicy]\n",
      "GO\n",
      "/****** Object:  Table [dbo].[etat]    Script Date: 23.03.2022 10:47:53 ******/\n",
      "SET ANSI_NULLS ON\n",
      "GO\n",
      "SET QUOTED_IDENTIFIER ON\n",
      "GO\n",
      "CREATE TABLE [dbo].[etat](\n",
      "\t[ID] [int] IDENTITY(1,1) NOT NULL,\n",
      "\t[ETAT] [varchar](50) NOT NULL,\n",
      "\t[PLACA_MIN] [money] NOT NULL,\n",
      "\t[PLACA_MAX] [money] NOT NULL,\n",
      "PRIMARY KEY CLUSTERED \n",
      "(\n",
      "\t[ID] ASC\n",
      ")WITH (PAD_INDEX = OFF, STATISTICS_NORECOMPUTE = OFF, IGNORE_DUP_KEY = OFF, ALLOW_ROW_LOCKS = ON, ALLOW_PAGE_LOCKS = ON, OPTIMIZE_FOR_SEQUENTIAL_KEY = OFF) ON [PRIMARY]\n",
      ") ON [PRIMARY]\n",
      "GO\n",
      "/****** Object:  Table [dbo].[pracownik]    Script Date: 23.03.2022 10:47:53 ******/\n",
      "SET ANSI_NULLS ON\n",
      "GO\n",
      "SET QUOTED_IDENTIFIER ON\n",
      "GO\n",
      "CREATE TABLE [dbo].[pracownik](\n",
      "\t[ID] [int] IDENTITY(1,1) NOT NULL,\n",
      "\t[NUMER] [int] NOT NULL,\n",
      "\t[NAZWISKO] [varchar](50) NOT NULL,\n",
      "\t[ETAT] [varchar](50) NOT NULL,\n",
      "\t[SZEF] [int] NULL,\n",
      "\t[PRACUJE_OD] [date] NOT NULL,\n",
      "\t[PLACA_POD] [money] NULL,\n",
      "\t[PLACA_DOD] [money] NULL,\n",
      "\t[ID_ZESP] [int] NOT NULL,\n",
      "PRIMARY KEY CLUSTERED \n",
      "(\n",
      "\t[ID] ASC\n",
      ")WITH (PAD_INDEX = OFF, STATISTICS_NORECOMPUTE = OFF, IGNORE_DUP_KEY = OFF, ALLOW_ROW_LOCKS = ON, ALLOW_PAGE_LOCKS = ON, OPTIMIZE_FOR_SEQUENTIAL_KEY = OFF) ON [PRIMARY]\n",
      ") ON [PRIMARY]\n",
      "GO\n",
      "/****** Object:  Table [dbo].[zespol]    Script Date: 23.03.2022 10:47:53 ******/\n",
      "SET ANSI_NULLS ON\n",
      "GO\n",
      "SET QUOTED_IDENTIFIER ON\n",
      "GO\n",
      "CREATE TABLE [dbo].[zespol](\n",
      "\t[ID] [int] IDENTITY(1,1) NOT NULL,\n",
      "\t[ID_ZESP] [int] NOT NULL,\n",
      "\t[NAZWA] [varchar](50) NOT NULL,\n",
      "\t[ADRES] [varchar](50) NOT NULL,\n",
      "PRIMARY KEY CLUSTERED \n",
      "(\n",
      "\t[ID] ASC\n",
      ")WITH (PAD_INDEX = OFF, STATISTICS_NORECOMPUTE = OFF, IGNORE_DUP_KEY = OFF, ALLOW_ROW_LOCKS = ON, ALLOW_PAGE_LOCKS = ON, OPTIMIZE_FOR_SEQUENTIAL_KEY = OFF) ON [PRIMARY]\n",
      ") ON [PRIMARY]\n",
      "GO\n",
      "USE [master]\n",
      "GO\n",
      "ALTER DATABASE [Pracownicy] SET  READ_WRITE \n",
      "GO\n",
      "\n"
     ]
    }
   ],
   "source": [
    "with codecs.open(\"script.sql\", encoding=\"utf-16\") as input_file:\n",
    "    with codecs.open(\"script2.txt\", \"w\", encoding=\"utf-8\") as output_file:\n",
    "        shutil.copyfileobj(input_file, output_file)\n",
    "\n",
    "file=open(\"script2.txt\", mode = 'r')\n",
    "read_data = file.read()\n",
    "print(read_data)"
   ]
  },
  {
   "cell_type": "code",
   "execution_count": 3,
   "metadata": {},
   "outputs": [
    {
     "name": "stdout",
     "output_type": "stream",
     "text": [
      "Ilość tabel: 3\n"
     ]
    }
   ],
   "source": [
    "tabela = read_data.split('CREATE TABLE') #liczy ilość tabel\n",
    "Ilość_tabel=len(tabela)-1\n",
    "\n",
    "print('Ilość tabel:', Ilość_tabel)"
   ]
  },
  {
   "cell_type": "code",
   "execution_count": 4,
   "metadata": {},
   "outputs": [
    {
     "name": "stdout",
     "output_type": "stream",
     "text": [
      "['CREATE TABLE [dbo].[etat](', 'CREATE TABLE [dbo].[pracownik](', 'CREATE TABLE [dbo].[zespol](']\n"
     ]
    }
   ],
   "source": [
    "file_name='script2.txt' #wyświetla linijki zawierające fraze 'create table'\n",
    "szukana_fraza='CREATE TABLE'\n",
    "lista_tabel = []\n",
    "with open(file_name, 'r') as read_obj:\n",
    "    for line in read_obj:\n",
    "        if szukana_fraza in line: #jeśli szukana fraza jest danej linijce to zostaje dodana do listy\n",
    "            lista_tabel.append(line.rstrip()) #rstrip usuwa zbędne spacje\n",
    "print(lista_tabel)"
   ]
  },
  {
   "cell_type": "code",
   "execution_count": 5,
   "metadata": {},
   "outputs": [
    {
     "name": "stdout",
     "output_type": "stream",
     "text": [
      "['dbo.etat', 'dbo.pracownik', 'dbo.zespol']\n"
     ]
    }
   ],
   "source": [
    "for i in range(Ilość_tabel):\n",
    "    lista_tabel[i]=lista_tabel[i].replace(\"CREATE TABLE [\",\"[\")\n",
    "    lista_tabel[i]=lista_tabel[i].replace(\"](\",\"]\")\n",
    "    lista_tabel[i]=lista_tabel[i].replace(\"]\",\"\")\n",
    "    lista_tabel[i]=lista_tabel[i].replace(\"[\",\"\")\n",
    "\n",
    "print(lista_tabel)"
   ]
  },
  {
   "cell_type": "code",
   "execution_count": null,
   "metadata": {},
   "outputs": [],
   "source": []
  },
  {
   "cell_type": "code",
   "execution_count": 6,
   "metadata": {},
   "outputs": [],
   "source": [
    "import networkx as nx\n",
    "import matplotlib.pyplot as plt"
   ]
  },
  {
   "cell_type": "code",
   "execution_count": 7,
   "metadata": {
    "scrolled": false
   },
   "outputs": [
    {
     "data": {
      "image/png": "[encoded data removed]",
      "text/plain": [
       "<Figure size 640x480 with 1 Axes>"
      ]
     },
     "metadata": {},
     "output_type": "display_data"
    }
   ],
   "source": [
    "G=nx.Graph()\n",
    "for i in range(Ilość_tabel):\n",
    "    G.add_node(lista_tabel[i])\n",
    "G.add_edge(lista_tabel[1],lista_tabel[2])\n",
    "G.add_edge(lista_tabel[1],lista_tabel[0])\n",
    "nx.draw(G, node_size=1000, with_labels = True)\n",
    "plt.show()"
   ]
  },
  {
   "cell_type": "code",
   "execution_count": null,
   "metadata": {},
   "outputs": [],
   "source": []
  },
  {
   "cell_type": "code",
   "execution_count": null,
   "metadata": {},
   "outputs": [],
   "source": []
  }
 ],
 "metadata": {
  "kernelspec": {
   "display_name": "Python 3",
   "language": "python",
   "name": "python3"
  },
  "language_info": {
   "codemirror_mode": {
    "name": "ipython",
    "version": 3
   },
   "file_extension": ".py",
   "mimetype": "text/x-python",
   "name": "python",
   "nbconvert_exporter": "python",
   "pygments_lexer": "ipython3",
   "version": "3.7.6"
  }
 },
 "nbformat": 4,
 "nbformat_minor": 4
}
